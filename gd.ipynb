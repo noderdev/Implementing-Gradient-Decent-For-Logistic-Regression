{
 "cells": [
  {
   "cell_type": "code",
   "execution_count": 1,
   "id": "88879e56",
   "metadata": {},
   "outputs": [],
   "source": [
    "from sklearn.preprocessing import StandardScaler\n",
    "from sklearn.linear_model import LogisticRegression\n",
    "from sklearn.feature_extraction.text import TfidfVectorizer\n",
    "import math\n",
    "import pandas as pd\n",
    "import numpy as np\n",
    "import time\n",
    "import copy\n",
    "import matplotlib.pyplot as plt\n",
    "\n",
    "data = pd.read_csv(\"./1676558209_8416622_cleveland-train.csv\")\n"
   ]
  },
  {
   "cell_type": "code",
   "execution_count": 2,
   "id": "24ffa9c9",
   "metadata": {},
   "outputs": [],
   "source": [
    "X = data.drop('heartdisease::category|-1|1',axis = 1).to_numpy()\n",
    "Y = data['heartdisease::category|-1|1'].values"
   ]
  },
  {
   "cell_type": "code",
   "execution_count": 3,
   "id": "b895b74c",
   "metadata": {},
   "outputs": [],
   "source": [
    "scaler = StandardScaler()\n",
    "X_Scaled = scaler.fit_transform(X)\n",
    "X_for_model = copy.deepcopy(X)\n",
    "Y_for_model = copy.deepcopy(Y)"
   ]
  },
  {
   "cell_type": "code",
   "execution_count": 4,
   "id": "79cb13b8",
   "metadata": {},
   "outputs": [
    {
     "data": {
      "text/plain": [
       "(152, 13)"
      ]
     },
     "execution_count": 4,
     "metadata": {},
     "output_type": "execute_result"
    }
   ],
   "source": [
    "X.shape"
   ]
  },
  {
   "cell_type": "code",
   "execution_count": 5,
   "id": "ac7a54dd",
   "metadata": {},
   "outputs": [],
   "source": [
    "Y.shape\n",
    "for i in range(len(Y)):\n",
    "    if Y[i] == -1:\n",
    "        Y[i] = 0"
   ]
  },
  {
   "cell_type": "code",
   "execution_count": 6,
   "id": "e7bf6e4b",
   "metadata": {},
   "outputs": [],
   "source": [
    "X = np.c_[np.ones((len(X), 1)), X]\n",
    "X_Scaled = np.c_[np.ones((len(X_Scaled), 1)), X_Scaled]\n",
    "X_Scaled = X_Scaled.T\n",
    "X = X.T"
   ]
  },
  {
   "cell_type": "code",
   "execution_count": 7,
   "id": "d717f19c",
   "metadata": {},
   "outputs": [
    {
     "data": {
      "text/plain": [
       "(14, 152)"
      ]
     },
     "execution_count": 7,
     "metadata": {},
     "output_type": "execute_result"
    }
   ],
   "source": [
    "X.shape"
   ]
  },
  {
   "cell_type": "code",
   "execution_count": 8,
   "id": "45128318",
   "metadata": {},
   "outputs": [],
   "source": [
    "# Computing prediction using signmoid function\n",
    "def compute_predictions(W, X):\n",
    "    z = np.matmul(W.T,X)\n",
    "    predicted_values = 1.0/(1.0+np.exp(-z))\n",
    "    return predicted_values"
   ]
  },
  {
   "cell_type": "code",
   "execution_count": 9,
   "id": "c8832e8a",
   "metadata": {},
   "outputs": [],
   "source": [
    "# Calculatin cross entropy loss\n",
    "def compute_cost(predictions, actual):\n",
    "    n = len(actual)\n",
    "    temp1 = np.log(predictions)\n",
    "    temp2 = np.log(1-predictions)\n",
    "    cost = -(1/n)*np.sum(((actual*temp1) + ((1-actual)*(temp2))))\n",
    "    return cost"
   ]
  },
  {
   "cell_type": "code",
   "execution_count": 10,
   "id": "dd561a8a",
   "metadata": {},
   "outputs": [],
   "source": [
    "# This functon finds the accuracy in percentage\n",
    "def compute_accuracy(predictions, actual):\n",
    "    total = 0 \n",
    "    for i in range(len(actual)):\n",
    "        if predictions[i] == actual[i]:\n",
    "            total = total + 1\n",
    "    \n",
    "    accuracy = (total/len(actual))*100\n",
    "    return accuracy"
   ]
  },
  {
   "cell_type": "code",
   "execution_count": 11,
   "id": "551df0bd",
   "metadata": {},
   "outputs": [],
   "source": [
    "# This function assign classes \n",
    "def assign_classes(predictions):\n",
    "    predicted_classes = np.zeros(len(predictions))\n",
    "    \n",
    "    for idx in range(len(predictions)):\n",
    "        if predictions[idx] >= 0.5:\n",
    "            predicted_classes[idx] = 1\n",
    "        else:\n",
    "            predicted_classes[idx] = 0\n",
    "    return predicted_classes"
   ]
  },
  {
   "cell_type": "code",
   "execution_count": 12,
   "id": "5a6ade3f",
   "metadata": {},
   "outputs": [],
   "source": [
    "def converged(gradients , threshold):\n",
    "    for g in gradients:\n",
    "        if abs(g) > threshold:\n",
    "            return False\n",
    "        \n",
    "    return True"
   ]
  },
  {
   "cell_type": "code",
   "execution_count": 13,
   "id": "aa77efcb",
   "metadata": {},
   "outputs": [],
   "source": [
    "def assign_classes_original(predictions):    \n",
    "    predicted_classes = np.zeros(len(predictions))\n",
    "    \n",
    "    for idx in range(len(predictions)):\n",
    "        if predictions[idx] >= 0.5:\n",
    "            predicted_classes[idx] = 1\n",
    "        else:\n",
    "            predicted_classes[idx] = -1\n",
    "    return predicted_classes"
   ]
  },
  {
   "cell_type": "code",
   "execution_count": 14,
   "id": "13849174",
   "metadata": {},
   "outputs": [],
   "source": [
    "def gradient_descent(X, Y, iterations, learning_rate, threshold):\n",
    "    actual = Y\n",
    "    costs = []\n",
    "    w = np.zeros(X.shape[0])\n",
    "    m = len(Y)\n",
    "    no_iterations = 0\n",
    "    \n",
    "    for i in range(iterations):\n",
    "        \n",
    "        predictions = compute_predictions(w, X)\n",
    "        cost = compute_cost(predictions, actual)\n",
    "        costs.append(cost)\n",
    "        errors = predictions - actual   \n",
    "        gradients = (1/m)*np.matmul(X,errors)\n",
    "        w = w - (learning_rate*gradients)\n",
    "        no_iterations = no_iterations + 1\n",
    "        \n",
    "        if converged(gradients,threshold):\n",
    "            break\n",
    "            \n",
    "        \n",
    "    return w , costs ,no_iterations"
   ]
  },
  {
   "cell_type": "code",
   "execution_count": 15,
   "id": "9b704dc8",
   "metadata": {},
   "outputs": [
    {
     "name": "stdout",
     "output_type": "stream",
     "text": [
      "Train Accuracy on 10000 Iterations :  69.07894736842105\n",
      "Train Cost on 10000 Iterations:  0.5847145522443018\n",
      "Time Taken to train the model on 10000 iterations:  0.12743400000000005\n"
     ]
    },
    {
     "data": {
      "image/png": "[encoded data removed]",
      "text/plain": [
       "<Figure size 640x480 with 1 Axes>"
      ]
     },
     "metadata": {},
     "output_type": "display_data"
    },
    {
     "name": "stdout",
     "output_type": "stream",
     "text": [
      "Train Accuracy on 100000 Iterations :  77.63157894736842\n",
      "Entropy Cost on 100000 Iterations:  0.49370175927710563\n",
      "Time Taken to train the model on 100000 iterations:  1.7182309999999998\n"
     ]
    },
    {
     "data": {
      "image/png": "[encoded data removed]",
      "text/plain": [
       "<Figure size 640x480 with 1 Axes>"
      ]
     },
     "metadata": {},
     "output_type": "display_data"
    },
    {
     "name": "stdout",
     "output_type": "stream",
     "text": [
      "Accuracy on Millon Iterations :  84.86842105263158\n",
      "Cost on 1000000 Iterations:  0.43535260915252544\n",
      "Time Taken to train the model on Millon iterations:  13.016179000000001\n"
     ]
    },
    {
     "data": {
      "image/png": "[encoded data removed]",
      "text/plain": [
       "<Figure size 640x480 with 1 Axes>"
      ]
     },
     "metadata": {},
     "output_type": "display_data"
    },
    {
     "name": "stdout",
     "output_type": "stream",
     "text": [
      "Accuracy from our library :  82.23684210526315\n",
      "Time Taken to train the model from library:  0.08810000000000073\n",
      "Accuracy on Scaled train data with learning rate 1e-05 and threshold 1e-03:  82.23684210526315\n",
      "Number of Iterations on Scaled data with learning rate 1e-06 and threshold 1e-03:  1000000\n",
      "Entropy Cost int this case:  0.4166924959018434\n",
      "Accuracy on Scaled train data with learning rate 1e-04 and threshold 1e-03:   82.89473684210526\n",
      "Number of Iterations on Scaled data with learning rate 1e-04 and threshold 1e-03:  670043\n",
      "Entropy Cost in this case:  0.40742042916972354\n",
      "Accuracy on Scaled train data with learning rate 1e-05 and threshold 1e-06: 82.23684210526315\n",
      "Number of Iterations on Scaled data with learning rate 1e-04 and threshold 1e-06:  1000000\n",
      "Entropy Cost in this case:  0.4166924959018434\n",
      "Accuracy on Scaled train data with learning rate 1e-04 and threshold 1e-06: 82.89473684210526\n",
      "Number of Iterations on Scaled data with learning rate 1e-04 and threshold 1e-06:  1000000\n",
      "Entropy Cost in this case:  0.4073839958856886\n",
      "Accuracy on Scaled train data with learning rate 1e-03 and threshold 1e-06: 82.89473684210526\n",
      "Number of Iterations on Scaled data with learning rate 1e-03 and threshold 1e-06:  232252\n",
      "Entropy Cost in this case:  0.40738144126666026\n",
      "Done!\n"
     ]
    }
   ],
   "source": [
    "test_data = pd.read_csv('./1676558209_8421676_cleveland-test.csv')\n",
    "X_test = test_data.to_numpy()\n",
    "X_test_for_model = copy.deepcopy(X_test)\n",
    "X_test = np.c_[np.ones((len(X_test), 1)), X_test]\n",
    "X_test = X_test.T\n",
    "\n",
    "# Learning Rate of 10^-5\n",
    "learning_rate = 1e-05\n",
    "threshold = 1e-03\n",
    "\n",
    "# Running on 10000 iterations on Train Data\n",
    "iterations = 10000\n",
    "start = time.process_time()\n",
    "params, costs ,no_iterations  = gradient_descent(X, Y, iterations, learning_rate,threshold)\n",
    "train_time =time.process_time() - start\n",
    "predictions = compute_predictions(params, X)\n",
    "class_predictions = assign_classes(predictions)\n",
    "accuracy_comp = compute_accuracy(class_predictions , Y)\n",
    "print(\"Train Accuracy on 10000 Iterations : \" , accuracy_comp)\n",
    "print(\"Train Cost on 10000 Iterations: \", compute_cost(predictions, Y))\n",
    "print(\"Time Taken to train the model on 10000 iterations: \", train_time)\n",
    "\n",
    "#Plot Cost\n",
    "plt.plot(costs)\n",
    "plt.xlabel('Iteration')\n",
    "plt.ylabel('Cost')\n",
    "plt.show()\n",
    "\n",
    "\n",
    "# Running  10000 iterations on Test Data\n",
    "predictions = compute_predictions(params, X_test)\n",
    "class_predictions = assign_classes_original(predictions).astype(int).astype(str)\n",
    "\n",
    "fl = open(\"PredictionsWithTenThousand.csv\",\"w\")\n",
    "for score in class_predictions:\n",
    "    fl.write(score)\n",
    "    fl.write(\"\\n\")\n",
    "\n",
    "fl.close()\n",
    "# print(\"Accuracy on 10000 Iterations : \" , accuracy_comp)\n",
    "\n",
    "####################################################################################################\n",
    "\n",
    "\n",
    "# Running on 100000 iterations\n",
    "iterations = 100000\n",
    "start = time.process_time()\n",
    "params, costs ,no_iterations = gradient_descent(X, Y, iterations, learning_rate,threshold)\n",
    "train_time =time.process_time() - start\n",
    "predictions = compute_predictions(params, X)\n",
    "class_predictions = assign_classes(predictions)\n",
    "accuracy_comp = compute_accuracy(class_predictions , Y)\n",
    "print(\"Train Accuracy on 100000 Iterations : \" , accuracy_comp)\n",
    "print(\"Entropy Cost on 100000 Iterations: \", compute_cost(predictions, Y))\n",
    "print(\"Time Taken to train the model on 100000 iterations: \", train_time)\n",
    "\n",
    "\n",
    "#Plot Cost\n",
    "plt.plot(costs)\n",
    "plt.xlabel('Iteration')\n",
    "plt.ylabel('Cost')\n",
    "plt.show()\n",
    "\n",
    "# Running  100000 iterations on Test Data\n",
    "predictions = compute_predictions(params, X_test)\n",
    "class_predictions = assign_classes_original(predictions).astype(int).astype(str)\n",
    "\n",
    "fl = open(\"PredictionsWithHundredThousand.csv\",\"w\")\n",
    "for score in class_predictions:\n",
    "    fl.write(score)\n",
    "    fl.write(\"\\n\")\n",
    "    \n",
    "fl.close()\n",
    "\n",
    "####################################################################################################\n",
    "\n",
    "# Running on 1000000 iterations\n",
    "iterations = 1000000\n",
    "start = time.process_time()\n",
    "params, costs ,no_iterations = gradient_descent(X, Y, iterations, learning_rate,threshold)\n",
    "train_time =time.process_time() - start\n",
    "predictions = compute_predictions(params, X)\n",
    "class_predictions = assign_classes(predictions)\n",
    "accuracy_comp = compute_accuracy(class_predictions , Y)\n",
    "print(\"Accuracy on Millon Iterations : \" , accuracy_comp)\n",
    "print(\"Cost on 1000000 Iterations: \", compute_cost(predictions, Y))\n",
    "print(\"Time Taken to train the model on Millon iterations: \", train_time)\n",
    "\n",
    "#Plot Cost\n",
    "plt.plot(costs)\n",
    "plt.xlabel('Iteration')\n",
    "plt.ylabel('Cost')\n",
    "plt.show()\n",
    "\n",
    "# Running  100000 iterations on Test Data\n",
    "predictions = compute_predictions(params, X_test)\n",
    "class_predictions = assign_classes_original(predictions).astype(int).astype(str)\n",
    "\n",
    "fl = open(\"PredictionsWithMillion.csv\",\"w\")\n",
    "for score in class_predictions:\n",
    "    fl.write(score)\n",
    "    fl.write(\"\\n\")\n",
    "    \n",
    "fl.close()\n",
    "\n",
    "####################################################################################################\n",
    "\n",
    "# Running the model from library \n",
    "model = LogisticRegression(max_iter=1000000)\n",
    "start = time.process_time()\n",
    "model.fit(X_for_model, Y_for_model)\n",
    "train_time =time.process_time() - start\n",
    "predictedY = model.predict(X_for_model)\n",
    "accuracy_lib = compute_accuracy(predictedY , Y_for_model)\n",
    "print(\"Accuracy from our library : \" , accuracy_lib)\n",
    "print(\"Time Taken to train the model from library: \", train_time)\n",
    "\n",
    "#Running model from library on testing data\n",
    "predictedY_test = model.predict(X_test_for_model).astype(int).astype(str)\n",
    "\n",
    "fl = open(\"PredictionOnTestFromLib.csv\",\"w\")\n",
    "for score in predictedY_test:\n",
    "    fl.write(score)\n",
    "    fl.write(\"\\n\")\n",
    "    \n",
    "fl.close()\n",
    "\n",
    "\n",
    "####################################################################################################\n",
    "\n",
    "\n",
    "#Running on Scaled data with learning rate 10^-5 and gradient theshold 10^-3\n",
    "iterations = 1000000\n",
    "learning_rate = 1e-05\n",
    "params, costs ,no_iterations = gradient_descent(X_Scaled, Y, iterations, learning_rate, threshold)\n",
    "predictions = compute_predictions(params, X_Scaled)\n",
    "class_predictions = assign_classes(predictions)\n",
    "accuracy_comp = compute_accuracy(class_predictions , Y)\n",
    "print(\"Accuracy on Scaled train data with learning rate 1e-05 and threshold 1e-03: \" , accuracy_comp)\n",
    "print(\"Number of Iterations on Scaled data with learning rate 1e-06 and threshold 1e-03: \" , no_iterations)\n",
    "print(\"Entropy Cost int this case: \", compute_cost(predictions, Y))\n",
    "\n",
    "####################################################################################################\n",
    "\n",
    "#Running on Scaled data with learning rate 10^-4 and gradient theshold 10^-3\n",
    "iterations = 1000000\n",
    "learning_rate = 1e-04\n",
    "params, costs ,no_iterations = gradient_descent(X_Scaled, Y, iterations, learning_rate, threshold)\n",
    "predictions = compute_predictions(params, X_Scaled)\n",
    "class_predictions = assign_classes(predictions)\n",
    "accuracy_comp = compute_accuracy(class_predictions , Y)\n",
    "print(\"Accuracy on Scaled train data with learning rate 1e-04 and threshold 1e-03:  \" , accuracy_comp)\n",
    "print(\"Number of Iterations on Scaled data with learning rate 1e-04 and threshold 1e-03: \" , no_iterations)\n",
    "print(\"Entropy Cost in this case: \", compute_cost(predictions, Y))\n",
    "\n",
    "###################################################################################################\n",
    "\n",
    "#Running on Scaled data with learning rate 10^-5 and gradient theshold 10^-6\n",
    "iterations = 1000000\n",
    "learning_rate = 1e-05\n",
    "threshold = 1e-6\n",
    "params, costs ,no_iterations = gradient_descent(X_Scaled, Y, iterations, learning_rate, threshold)\n",
    "predictions = compute_predictions(params, X_Scaled)\n",
    "class_predictions = assign_classes(predictions)\n",
    "accuracy_comp = compute_accuracy(class_predictions , Y)\n",
    "print(\"Accuracy on Scaled train data with learning rate 1e-05 and threshold 1e-06:\" , accuracy_comp)\n",
    "print(\"Number of Iterations on Scaled data with learning rate 1e-04 and threshold 1e-06: \" , no_iterations)\n",
    "print(\"Entropy Cost in this case: \", compute_cost(predictions, Y))\n",
    "\n",
    "\n",
    "###################################################################################################\n",
    "\n",
    "#Running on Scaled data with learning rate 10^-4 and gradient theshold 10^-6\n",
    "iterations = 1000000\n",
    "learning_rate = 1e-04\n",
    "threshold = 1e-6\n",
    "params, costs ,no_iterations = gradient_descent(X_Scaled, Y, iterations, learning_rate, threshold)\n",
    "predictions = compute_predictions(params, X_Scaled)\n",
    "class_predictions = assign_classes(predictions)\n",
    "accuracy_comp = compute_accuracy(class_predictions , Y)\n",
    "print(\"Accuracy on Scaled train data with learning rate 1e-04 and threshold 1e-06:\" , accuracy_comp)\n",
    "print(\"Number of Iterations on Scaled data with learning rate 1e-04 and threshold 1e-06: \" , no_iterations)\n",
    "print(\"Entropy Cost in this case: \", compute_cost(predictions, Y))\n",
    "\n",
    "###################################################################################################\n",
    "\n",
    "#Running on Scaled data with learning rate 10^-3 and gradient theshold 10^-6\n",
    "iterations = 1000000\n",
    "learning_rate = 1e-03\n",
    "threshold = 1e-6\n",
    "params, costs ,no_iterations = gradient_descent(X_Scaled, Y, iterations, learning_rate,threshold)\n",
    "predictions = compute_predictions(params, X_Scaled)\n",
    "class_predictions = assign_classes(predictions)\n",
    "accuracy_comp = compute_accuracy(class_predictions , Y)\n",
    "print(\"Accuracy on Scaled train data with learning rate 1e-03 and threshold 1e-06:\" , accuracy_comp)\n",
    "print(\"Number of Iterations on Scaled data with learning rate 1e-03 and threshold 1e-06: \" , no_iterations)\n",
    "print(\"Entropy Cost in this case: \", compute_cost(predictions, Y))\n",
    "print(\"Done!\")"
   ]
  },
  {
   "cell_type": "code",
   "execution_count": null,
   "id": "1256fb17",
   "metadata": {},
   "outputs": [],
   "source": []
  }
 ],
 "metadata": {
  "kernelspec": {
   "display_name": "Python 3 (ipykernel)",
   "language": "python",
   "name": "python3"
  },
  "language_info": {
   "codemirror_mode": {
    "name": "ipython",
    "version": 3
   },
   "file_extension": ".py",
   "mimetype": "text/x-python",
   "name": "python",
   "nbconvert_exporter": "python",
   "pygments_lexer": "ipython3",
   "version": "3.10.6"
  }
 },
 "nbformat": 4,
 "nbformat_minor": 5
}
